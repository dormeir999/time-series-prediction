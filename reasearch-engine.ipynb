{
 "cells": [
  {
   "cell_type": "code",
   "execution_count": 121,
   "outputs": [],
   "source": [
    "import pandas as pd\n",
    "import numpy as np"
   ],
   "metadata": {
    "collapsed": false,
    "pycharm": {
     "name": "#%%\n"
    }
   }
  },
  {
   "cell_type": "markdown",
   "source": [
    "# demand-forecasting-kernels-only"
   ],
   "metadata": {
    "collapsed": false,
    "pycharm": {
     "name": "#%% md\n"
    }
   }
  },
  {
   "cell_type": "code",
   "execution_count": 122,
   "outputs": [
    {
     "data": {
      "text/plain": "              date  store  item  sales\n0       2013-01-01      1     1     13\n1       2013-01-02      1     1     11\n2       2013-01-03      1     1     14\n3       2013-01-04      1     1     13\n4       2013-01-05      1     1     10\n...            ...    ...   ...    ...\n912995  2017-12-27     10    50     63\n912996  2017-12-28     10    50     59\n912997  2017-12-29     10    50     74\n912998  2017-12-30     10    50     62\n912999  2017-12-31     10    50     82\n\n[913000 rows x 4 columns]",
      "text/html": "<div>\n<style scoped>\n    .dataframe tbody tr th:only-of-type {\n        vertical-align: middle;\n    }\n\n    .dataframe tbody tr th {\n        vertical-align: top;\n    }\n\n    .dataframe thead th {\n        text-align: right;\n    }\n</style>\n<table border=\"1\" class=\"dataframe\">\n  <thead>\n    <tr style=\"text-align: right;\">\n      <th></th>\n      <th>date</th>\n      <th>store</th>\n      <th>item</th>\n      <th>sales</th>\n    </tr>\n  </thead>\n  <tbody>\n    <tr>\n      <th>0</th>\n      <td>2013-01-01</td>\n      <td>1</td>\n      <td>1</td>\n      <td>13</td>\n    </tr>\n    <tr>\n      <th>1</th>\n      <td>2013-01-02</td>\n      <td>1</td>\n      <td>1</td>\n      <td>11</td>\n    </tr>\n    <tr>\n      <th>2</th>\n      <td>2013-01-03</td>\n      <td>1</td>\n      <td>1</td>\n      <td>14</td>\n    </tr>\n    <tr>\n      <th>3</th>\n      <td>2013-01-04</td>\n      <td>1</td>\n      <td>1</td>\n      <td>13</td>\n    </tr>\n    <tr>\n      <th>4</th>\n      <td>2013-01-05</td>\n      <td>1</td>\n      <td>1</td>\n      <td>10</td>\n    </tr>\n    <tr>\n      <th>...</th>\n      <td>...</td>\n      <td>...</td>\n      <td>...</td>\n      <td>...</td>\n    </tr>\n    <tr>\n      <th>912995</th>\n      <td>2017-12-27</td>\n      <td>10</td>\n      <td>50</td>\n      <td>63</td>\n    </tr>\n    <tr>\n      <th>912996</th>\n      <td>2017-12-28</td>\n      <td>10</td>\n      <td>50</td>\n      <td>59</td>\n    </tr>\n    <tr>\n      <th>912997</th>\n      <td>2017-12-29</td>\n      <td>10</td>\n      <td>50</td>\n      <td>74</td>\n    </tr>\n    <tr>\n      <th>912998</th>\n      <td>2017-12-30</td>\n      <td>10</td>\n      <td>50</td>\n      <td>62</td>\n    </tr>\n    <tr>\n      <th>912999</th>\n      <td>2017-12-31</td>\n      <td>10</td>\n      <td>50</td>\n      <td>82</td>\n    </tr>\n  </tbody>\n</table>\n<p>913000 rows × 4 columns</p>\n</div>"
     },
     "execution_count": 122,
     "metadata": {},
     "output_type": "execute_result"
    }
   ],
   "source": [
    "train = pd.read_csv(r\"data/demand-forecasting-kernels-only/train.csv\")\n",
    "train"
   ],
   "metadata": {
    "collapsed": false,
    "pycharm": {
     "name": "#%%\n"
    }
   }
  },
  {
   "cell_type": "code",
   "execution_count": 123,
   "outputs": [
    {
     "data": {
      "text/plain": "('2013-01-01', '2017-12-31')"
     },
     "execution_count": 123,
     "metadata": {},
     "output_type": "execute_result"
    }
   ],
   "source": [
    "train.date.min(),train.date.max()"
   ],
   "metadata": {
    "collapsed": false,
    "pycharm": {
     "name": "#%%\n"
    }
   }
  },
  {
   "cell_type": "code",
   "execution_count": 124,
   "outputs": [
    {
     "data": {
      "text/plain": "          id        date  store  item\n0          0  2018-01-01      1     1\n1          1  2018-01-02      1     1\n2          2  2018-01-03      1     1\n3          3  2018-01-04      1     1\n4          4  2018-01-05      1     1\n...      ...         ...    ...   ...\n44995  44995  2018-03-27     10    50\n44996  44996  2018-03-28     10    50\n44997  44997  2018-03-29     10    50\n44998  44998  2018-03-30     10    50\n44999  44999  2018-03-31     10    50\n\n[45000 rows x 4 columns]",
      "text/html": "<div>\n<style scoped>\n    .dataframe tbody tr th:only-of-type {\n        vertical-align: middle;\n    }\n\n    .dataframe tbody tr th {\n        vertical-align: top;\n    }\n\n    .dataframe thead th {\n        text-align: right;\n    }\n</style>\n<table border=\"1\" class=\"dataframe\">\n  <thead>\n    <tr style=\"text-align: right;\">\n      <th></th>\n      <th>id</th>\n      <th>date</th>\n      <th>store</th>\n      <th>item</th>\n    </tr>\n  </thead>\n  <tbody>\n    <tr>\n      <th>0</th>\n      <td>0</td>\n      <td>2018-01-01</td>\n      <td>1</td>\n      <td>1</td>\n    </tr>\n    <tr>\n      <th>1</th>\n      <td>1</td>\n      <td>2018-01-02</td>\n      <td>1</td>\n      <td>1</td>\n    </tr>\n    <tr>\n      <th>2</th>\n      <td>2</td>\n      <td>2018-01-03</td>\n      <td>1</td>\n      <td>1</td>\n    </tr>\n    <tr>\n      <th>3</th>\n      <td>3</td>\n      <td>2018-01-04</td>\n      <td>1</td>\n      <td>1</td>\n    </tr>\n    <tr>\n      <th>4</th>\n      <td>4</td>\n      <td>2018-01-05</td>\n      <td>1</td>\n      <td>1</td>\n    </tr>\n    <tr>\n      <th>...</th>\n      <td>...</td>\n      <td>...</td>\n      <td>...</td>\n      <td>...</td>\n    </tr>\n    <tr>\n      <th>44995</th>\n      <td>44995</td>\n      <td>2018-03-27</td>\n      <td>10</td>\n      <td>50</td>\n    </tr>\n    <tr>\n      <th>44996</th>\n      <td>44996</td>\n      <td>2018-03-28</td>\n      <td>10</td>\n      <td>50</td>\n    </tr>\n    <tr>\n      <th>44997</th>\n      <td>44997</td>\n      <td>2018-03-29</td>\n      <td>10</td>\n      <td>50</td>\n    </tr>\n    <tr>\n      <th>44998</th>\n      <td>44998</td>\n      <td>2018-03-30</td>\n      <td>10</td>\n      <td>50</td>\n    </tr>\n    <tr>\n      <th>44999</th>\n      <td>44999</td>\n      <td>2018-03-31</td>\n      <td>10</td>\n      <td>50</td>\n    </tr>\n  </tbody>\n</table>\n<p>45000 rows × 4 columns</p>\n</div>"
     },
     "execution_count": 124,
     "metadata": {},
     "output_type": "execute_result"
    }
   ],
   "source": [
    "test = pd.read_csv(r\"data/demand-forecasting-kernels-only/test.csv\")\n",
    "test"
   ],
   "metadata": {
    "collapsed": false,
    "pycharm": {
     "name": "#%%\n"
    }
   }
  },
  {
   "cell_type": "code",
   "execution_count": 125,
   "outputs": [
    {
     "data": {
      "text/plain": "('2018-01-01', '2018-03-31')"
     },
     "execution_count": 125,
     "metadata": {},
     "output_type": "execute_result"
    }
   ],
   "source": [
    "test_min_date, test_max_date = test.date.unique().min(),test.date.unique().max()\n",
    "test_min_date, test_max_date"
   ],
   "metadata": {
    "collapsed": false,
    "pycharm": {
     "name": "#%%\n"
    }
   }
  },
  {
   "cell_type": "code",
   "execution_count": 559,
   "outputs": [
    {
     "data": {
      "text/plain": "              date  store  item  sales       id\n0       2013-01-01      1     1   13.0      NaN\n1       2013-01-02      1     1   11.0      NaN\n2       2013-01-03      1     1   14.0      NaN\n3       2013-01-04      1     1   13.0      NaN\n4       2013-01-05      1     1   10.0      NaN\n...            ...    ...   ...    ...      ...\n957995  2018-03-27     10    50    NaN  44995.0\n957996  2018-03-28     10    50    NaN  44996.0\n957997  2018-03-29     10    50    NaN  44997.0\n957998  2018-03-30     10    50    NaN  44998.0\n957999  2018-03-31     10    50    NaN  44999.0\n\n[958000 rows x 5 columns]",
      "text/html": "<div>\n<style scoped>\n    .dataframe tbody tr th:only-of-type {\n        vertical-align: middle;\n    }\n\n    .dataframe tbody tr th {\n        vertical-align: top;\n    }\n\n    .dataframe thead th {\n        text-align: right;\n    }\n</style>\n<table border=\"1\" class=\"dataframe\">\n  <thead>\n    <tr style=\"text-align: right;\">\n      <th></th>\n      <th>date</th>\n      <th>store</th>\n      <th>item</th>\n      <th>sales</th>\n      <th>id</th>\n    </tr>\n  </thead>\n  <tbody>\n    <tr>\n      <th>0</th>\n      <td>2013-01-01</td>\n      <td>1</td>\n      <td>1</td>\n      <td>13.0</td>\n      <td>NaN</td>\n    </tr>\n    <tr>\n      <th>1</th>\n      <td>2013-01-02</td>\n      <td>1</td>\n      <td>1</td>\n      <td>11.0</td>\n      <td>NaN</td>\n    </tr>\n    <tr>\n      <th>2</th>\n      <td>2013-01-03</td>\n      <td>1</td>\n      <td>1</td>\n      <td>14.0</td>\n      <td>NaN</td>\n    </tr>\n    <tr>\n      <th>3</th>\n      <td>2013-01-04</td>\n      <td>1</td>\n      <td>1</td>\n      <td>13.0</td>\n      <td>NaN</td>\n    </tr>\n    <tr>\n      <th>4</th>\n      <td>2013-01-05</td>\n      <td>1</td>\n      <td>1</td>\n      <td>10.0</td>\n      <td>NaN</td>\n    </tr>\n    <tr>\n      <th>...</th>\n      <td>...</td>\n      <td>...</td>\n      <td>...</td>\n      <td>...</td>\n      <td>...</td>\n    </tr>\n    <tr>\n      <th>957995</th>\n      <td>2018-03-27</td>\n      <td>10</td>\n      <td>50</td>\n      <td>NaN</td>\n      <td>44995.0</td>\n    </tr>\n    <tr>\n      <th>957996</th>\n      <td>2018-03-28</td>\n      <td>10</td>\n      <td>50</td>\n      <td>NaN</td>\n      <td>44996.0</td>\n    </tr>\n    <tr>\n      <th>957997</th>\n      <td>2018-03-29</td>\n      <td>10</td>\n      <td>50</td>\n      <td>NaN</td>\n      <td>44997.0</td>\n    </tr>\n    <tr>\n      <th>957998</th>\n      <td>2018-03-30</td>\n      <td>10</td>\n      <td>50</td>\n      <td>NaN</td>\n      <td>44998.0</td>\n    </tr>\n    <tr>\n      <th>957999</th>\n      <td>2018-03-31</td>\n      <td>10</td>\n      <td>50</td>\n      <td>NaN</td>\n      <td>44999.0</td>\n    </tr>\n  </tbody>\n</table>\n<p>958000 rows × 5 columns</p>\n</div>"
     },
     "execution_count": 559,
     "metadata": {},
     "output_type": "execute_result"
    }
   ],
   "source": [
    "df = pd.concat([train, test], axis=0).reset_index(drop=True)\n",
    "df0 = df.copy(deep=True)\n",
    "df"
   ],
   "metadata": {
    "collapsed": false,
    "pycharm": {
     "name": "#%%\n"
    }
   }
  },
  {
   "cell_type": "markdown",
   "source": [
    "# Utils functions and user configurations"
   ],
   "metadata": {
    "collapsed": false,
    "pycharm": {
     "name": "#%% md\n"
    }
   }
  },
  {
   "cell_type": "code",
   "execution_count": 595,
   "outputs": [
    {
     "name": "stdout",
     "output_type": "stream",
     "text": [
      "get_features_time_dependence()\n",
      "target_fix_na()\n",
      "target_fillna()\n",
      "is_target_clean()\n",
      "add_missing_dates_fill_target_zero()\n",
      "is_full_time_df()\n",
      "add_indexes_col()\n",
      "move_cols_to_first()\n",
      "is_index_cols_clean()\n",
      "is_index_cols_clean()\n",
      "time_fixed_features_fillna()\n",
      "target_fillna()\n",
      "is_target_clean()\n"
     ]
    },
    {
     "data": {
      "text/plain": "              date store_item store item  sales       id  storeXitem  storeX5  \\\n0       2013-01-02        1_1     1    1   11.0      NaN         1.0      5.0   \n1       2013-01-03        1_1     1    1   14.0      NaN         1.0      5.0   \n2       2013-01-04        1_1     1    1   13.0      NaN         1.0      5.0   \n3       2013-01-05        1_1     1    1   10.0      NaN         1.0      5.0   \n4       2013-01-06        1_1     1    1   12.0      NaN         1.0      5.0   \n...            ...        ...   ...  ...    ...      ...         ...      ...   \n957995  2018-03-28      10_50    10   50    0.0  44996.0       500.0     50.0   \n957996  2018-03-29      10_50    10   50    0.0  44997.0       500.0     50.0   \n957997  2018-03-30      10_50    10   50    0.0  44998.0       500.0     50.0   \n957998  2018-03-31      10_50    10   50    0.0  44999.0       500.0     50.0   \n957999  2013-01-01        1_1     1    1    0.0      NaN         1.0      5.0   \n\n        itemX5  \n0          5.0  \n1          5.0  \n2          5.0  \n3          5.0  \n4          5.0  \n...        ...  \n957995   250.0  \n957996   250.0  \n957997   250.0  \n957998   250.0  \n957999     5.0  \n\n[958000 rows x 9 columns]",
      "text/html": "<div>\n<style scoped>\n    .dataframe tbody tr th:only-of-type {\n        vertical-align: middle;\n    }\n\n    .dataframe tbody tr th {\n        vertical-align: top;\n    }\n\n    .dataframe thead th {\n        text-align: right;\n    }\n</style>\n<table border=\"1\" class=\"dataframe\">\n  <thead>\n    <tr style=\"text-align: right;\">\n      <th></th>\n      <th>date</th>\n      <th>store_item</th>\n      <th>store</th>\n      <th>item</th>\n      <th>sales</th>\n      <th>id</th>\n      <th>storeXitem</th>\n      <th>storeX5</th>\n      <th>itemX5</th>\n    </tr>\n  </thead>\n  <tbody>\n    <tr>\n      <th>0</th>\n      <td>2013-01-02</td>\n      <td>1_1</td>\n      <td>1</td>\n      <td>1</td>\n      <td>11.0</td>\n      <td>NaN</td>\n      <td>1.0</td>\n      <td>5.0</td>\n      <td>5.0</td>\n    </tr>\n    <tr>\n      <th>1</th>\n      <td>2013-01-03</td>\n      <td>1_1</td>\n      <td>1</td>\n      <td>1</td>\n      <td>14.0</td>\n      <td>NaN</td>\n      <td>1.0</td>\n      <td>5.0</td>\n      <td>5.0</td>\n    </tr>\n    <tr>\n      <th>2</th>\n      <td>2013-01-04</td>\n      <td>1_1</td>\n      <td>1</td>\n      <td>1</td>\n      <td>13.0</td>\n      <td>NaN</td>\n      <td>1.0</td>\n      <td>5.0</td>\n      <td>5.0</td>\n    </tr>\n    <tr>\n      <th>3</th>\n      <td>2013-01-05</td>\n      <td>1_1</td>\n      <td>1</td>\n      <td>1</td>\n      <td>10.0</td>\n      <td>NaN</td>\n      <td>1.0</td>\n      <td>5.0</td>\n      <td>5.0</td>\n    </tr>\n    <tr>\n      <th>4</th>\n      <td>2013-01-06</td>\n      <td>1_1</td>\n      <td>1</td>\n      <td>1</td>\n      <td>12.0</td>\n      <td>NaN</td>\n      <td>1.0</td>\n      <td>5.0</td>\n      <td>5.0</td>\n    </tr>\n    <tr>\n      <th>...</th>\n      <td>...</td>\n      <td>...</td>\n      <td>...</td>\n      <td>...</td>\n      <td>...</td>\n      <td>...</td>\n      <td>...</td>\n      <td>...</td>\n      <td>...</td>\n    </tr>\n    <tr>\n      <th>957995</th>\n      <td>2018-03-28</td>\n      <td>10_50</td>\n      <td>10</td>\n      <td>50</td>\n      <td>0.0</td>\n      <td>44996.0</td>\n      <td>500.0</td>\n      <td>50.0</td>\n      <td>250.0</td>\n    </tr>\n    <tr>\n      <th>957996</th>\n      <td>2018-03-29</td>\n      <td>10_50</td>\n      <td>10</td>\n      <td>50</td>\n      <td>0.0</td>\n      <td>44997.0</td>\n      <td>500.0</td>\n      <td>50.0</td>\n      <td>250.0</td>\n    </tr>\n    <tr>\n      <th>957997</th>\n      <td>2018-03-30</td>\n      <td>10_50</td>\n      <td>10</td>\n      <td>50</td>\n      <td>0.0</td>\n      <td>44998.0</td>\n      <td>500.0</td>\n      <td>50.0</td>\n      <td>250.0</td>\n    </tr>\n    <tr>\n      <th>957998</th>\n      <td>2018-03-31</td>\n      <td>10_50</td>\n      <td>10</td>\n      <td>50</td>\n      <td>0.0</td>\n      <td>44999.0</td>\n      <td>500.0</td>\n      <td>50.0</td>\n      <td>250.0</td>\n    </tr>\n    <tr>\n      <th>957999</th>\n      <td>2013-01-01</td>\n      <td>1_1</td>\n      <td>1</td>\n      <td>1</td>\n      <td>0.0</td>\n      <td>NaN</td>\n      <td>1.0</td>\n      <td>5.0</td>\n      <td>5.0</td>\n    </tr>\n  </tbody>\n</table>\n<p>958000 rows × 9 columns</p>\n</div>"
     },
     "execution_count": 595,
     "metadata": {},
     "output_type": "execute_result"
    }
   ],
   "source": [
    "from itertools import product\n",
    "from functools import reduce # Valid in Python 2.6+, required in Python 3\n",
    "import operator\n",
    "import sys\n",
    "\n",
    "def print_func_name():\n",
    "    the_name = sys._getframe(1).f_code.co_name\n",
    "    return print(f'{the_name}()')\n",
    "\n",
    "def get_features_time_dependence(the_df):\n",
    "    print_func_name()\n",
    "    is_fixed_features_df = (the_df.groupby(index_cols)[features_orig].nunique(dropna=False) == 1).all()\n",
    "    the_time_fixed_features = is_fixed_features_df[is_fixed_features_df==True].index\n",
    "    the_time_variant_features = is_fixed_features_df[is_fixed_features_df==False].index\n",
    "    return the_time_fixed_features, the_time_variant_features\n",
    "\n",
    "def move_cols_to_first(the_df, first_cols: list):\n",
    "    print_func_name()\n",
    "    latter_cols = the_df.columns[~the_df.columns.isin(first_cols)]\n",
    "    the_df = pd.concat([the_df[first_cols], the_df[latter_cols]],axis=1)\n",
    "    return the_df\n",
    "\n",
    "def add_indexes_col(the_df, indicator=False):\n",
    "    print_func_name()\n",
    "    indexes_col = \"_\".join(index_cols)\n",
    "    the_df = the_df.copy(deep=True)\n",
    "    the_df[indexes_col] = the_df[index_cols[0]].astype(str)\n",
    "    if len(indexes_col)>1:\n",
    "        for col in index_cols[1:]:\n",
    "            the_df[indexes_col] = the_df[indexes_col].astype(str) + \"_\" + the_df[col].astype(str)\n",
    "    if time_col in the_df:\n",
    "        the_df = move_cols_to_first(the_df, [time_col,indexes_col]+index_cols)\n",
    "    else:\n",
    "        the_df = move_cols_to_first(the_df, [indexes_col]+index_cols)\n",
    "    return the_df, indexes_col\n",
    "\n",
    "def is_full_time_df(the_df):\n",
    "    print_func_name()\n",
    "    is_full_time = len(the_df) == reduce(operator.mul, the_df[index_cols+[time_col]].nunique())\n",
    "    return is_full_time\n",
    "\n",
    "def is_target_clean(the_df):\n",
    "    print_func_name()\n",
    "    return the_df[target].isna().sum() == 0\n",
    "\n",
    "def target_fillna(the_df):\n",
    "    \"\"\" To be used when NA is a fixed default value, like 0\"\"\"\n",
    "    print_func_name()\n",
    "    assert target in the_df\n",
    "    the_df[target] = the_df[target].fillna(target_fillna_value)\n",
    "    assert is_target_clean(the_df)\n",
    "    return the_df\n",
    "\n",
    "def target_dropna(the_df):\n",
    "    print_func_name()\n",
    "    the_df = the_df.dropna(subset=[target])\n",
    "    assert the_df[target].isna().sum() == 0\n",
    "\n",
    "def target_fix_na(the_df):\n",
    "    print_func_name()\n",
    "    if target_na_decision=='fill':\n",
    "        the_df = target_fillna(the_df)\n",
    "    elif target_na_decision=='drop':\n",
    "        the_df = target_dropna(the_df)\n",
    "    return the_df\n",
    "\n",
    "def is_index_cols_clean(the_df):\n",
    "    print_func_name()\n",
    "    return (the_df[index_cols].isna().sum()==0).all()\n",
    "\n",
    "def recreate_index_cols_from_indexes_col(the_df):\n",
    "    \"recreate the original index cols that are missing for the dates that were missing\"\n",
    "    if is_index_cols_clean(the_df):\n",
    "        return the_df\n",
    "    assert indexes_col in the_df\n",
    "    recreated_index_values = the_df[the_df[index_cols].isna().any(axis=1)][indexes_col].str.split('_', expand=True)\n",
    "    recreated_index_values.columns=index_cols\n",
    "    the_df.loc[the_df[index_cols].isna().any(axis=1), index_cols] = recreated_index_values\n",
    "    assert is_index_cols_clean(the_df)\n",
    "    return the_df\n",
    "\n",
    "\n",
    "def time_fixed_features_fillna(the_df):\n",
    "    print_func_name()\n",
    "    # Make sure there's one index col\n",
    "    the_indexes_col = \"_\".join(index_cols)\n",
    "    if not the_indexes_col in the_df:\n",
    "        the_df, the_indexes_col = add_indexes_col(the_df)\n",
    "    time_fixed_features_values_per_index = the_df.dropna(subset=time_fixed_features).groupby(the_indexes_col)[time_fixed_features].last().reset_index()\n",
    "    # Make index_cols of time_fixed_features_values_per_index same type as the_df\n",
    "    #time_fixed_features_values_per_index[index_cols] = time_fixed_features_values_per_index[index_cols].astype(the_df[index_cols].dtypes.drop_duplicates()[0])\n",
    "    the_df = the_df.drop(columns=time_fixed_features)\n",
    "    #return the_df, time_fixed_features_values_per_index\n",
    "    the_df = the_df.merge(time_fixed_features_values_per_index, on=the_indexes_col, how='left')\n",
    "    return the_df\n",
    "\n",
    "def add_missing_dates_fill_target_zero(the_df):\n",
    "    print_func_name()\n",
    "    if is_full_time_df(the_df):\n",
    "        return the_df\n",
    "    # Make sure there's one index col\n",
    "    the_indexes_col = \"_\".join(index_cols)\n",
    "    if not the_indexes_col in the_df:\n",
    "        the_df, the_indexes_col = add_indexes_col(the_df)\n",
    "    # The logic\n",
    "    the_df_full_date_indexes = pd.DataFrame(product(the_df[time_col].drop_duplicates(), the_df[the_indexes_col].drop_duplicates()), columns=[time_col, the_indexes_col]).dropna()\n",
    "    the_df = the_df.merge(the_df_full_date_indexes, how='right')\n",
    "    ## fillna's\n",
    "    the_df = recreate_index_cols_from_indexes_col(the_df)\n",
    "    #return the_df\n",
    "    the_df = time_fixed_features_fillna(the_df)\n",
    "    the_df = target_fillna(the_df)\n",
    "    return the_df\n",
    "    assert is_full_time_df(the_df)\n",
    "    return the_df\n",
    "\n",
    "\n",
    "df = df0.copy(deep=True)\n",
    "# user and global configurations\n",
    "time_col = 'date'\n",
    "index_cols = ['store','item']\n",
    "indexes_col = \"_\".join(index_cols)\n",
    "target = 'sales'\n",
    "target_na_decision = 'fill' # or drop\n",
    "target_fillna_value = 0\n",
    "\n",
    "# some extra features\n",
    "df['storeXitem'] = df.store * df.item\n",
    "df['storeX5'] = df.store*5\n",
    "df['itemX5'] = df.item*5\n",
    "features_orig = df.columns[~df.columns.isin(index_cols+[time_col, target])]\n",
    "\n",
    "# pipeline\n",
    "time_fixed_features, time_variant_features = get_features_time_dependence(df)\n",
    "df = target_fix_na(df)\n",
    "df = add_missing_dates_fill_target_zero(df[1:])\n",
    "df"
   ],
   "metadata": {
    "collapsed": false,
    "pycharm": {
     "name": "#%%\n"
    }
   }
  },
  {
   "cell_type": "code",
   "execution_count": null,
   "outputs": [],
   "source": [
    "# fillna"
   ],
   "metadata": {
    "collapsed": false,
    "pycharm": {
     "name": "#%%\n"
    }
   }
  },
  {
   "cell_type": "markdown",
   "source": [
    "# handle features NA"
   ],
   "metadata": {
    "collapsed": false,
    "pycharm": {
     "name": "#%% md\n"
    }
   }
  },
  {
   "cell_type": "markdown",
   "source": [
    "# Target encoding categoricals"
   ],
   "metadata": {
    "collapsed": false,
    "pycharm": {
     "name": "#%% md\n"
    }
   }
  },
  {
   "cell_type": "markdown",
   "source": [
    "# Feature Engineering"
   ],
   "metadata": {
    "collapsed": false,
    "pycharm": {
     "name": "#%% md\n"
    }
   }
  },
  {
   "cell_type": "markdown",
   "source": [
    "# TODO\n",
    "## create a unified time col from multiple time cols"
   ],
   "metadata": {
    "collapsed": false,
    "pycharm": {
     "name": "#%% md\n"
    }
   }
  },
  {
   "cell_type": "code",
   "execution_count": null,
   "outputs": [],
   "source": [],
   "metadata": {
    "collapsed": false,
    "pycharm": {
     "name": "#%%\n"
    }
   }
  }
 ],
 "metadata": {
  "kernelspec": {
   "display_name": "Python 3",
   "language": "python",
   "name": "python3"
  },
  "language_info": {
   "codemirror_mode": {
    "name": "ipython",
    "version": 2
   },
   "file_extension": ".py",
   "mimetype": "text/x-python",
   "name": "python",
   "nbconvert_exporter": "python",
   "pygments_lexer": "ipython2",
   "version": "2.7.6"
  }
 },
 "nbformat": 4,
 "nbformat_minor": 0
}