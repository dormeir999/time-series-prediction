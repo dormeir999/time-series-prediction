{
 "cells": [
  {
   "cell_type": "code",
   "execution_count": 2,
   "outputs": [],
   "source": [
    "import pandas as pd\n",
    "import numpy as np"
   ],
   "metadata": {
    "collapsed": false,
    "pycharm": {
     "name": "#%%\n"
    }
   }
  },
  {
   "cell_type": "markdown",
   "source": [
    "# demand-forecasting-kernels-only"
   ],
   "metadata": {
    "collapsed": false,
    "pycharm": {
     "name": "#%% md\n"
    }
   }
  },
  {
   "cell_type": "code",
   "execution_count": 13,
   "outputs": [
    {
     "data": {
      "text/plain": "              date  store  item  sales\n0       2013-01-01      1     1     13\n1       2013-01-02      1     1     11\n2       2013-01-03      1     1     14\n3       2013-01-04      1     1     13\n4       2013-01-05      1     1     10\n...            ...    ...   ...    ...\n912995  2017-12-27     10    50     63\n912996  2017-12-28     10    50     59\n912997  2017-12-29     10    50     74\n912998  2017-12-30     10    50     62\n912999  2017-12-31     10    50     82\n\n[913000 rows x 4 columns]",
      "text/html": "<div>\n<style scoped>\n    .dataframe tbody tr th:only-of-type {\n        vertical-align: middle;\n    }\n\n    .dataframe tbody tr th {\n        vertical-align: top;\n    }\n\n    .dataframe thead th {\n        text-align: right;\n    }\n</style>\n<table border=\"1\" class=\"dataframe\">\n  <thead>\n    <tr style=\"text-align: right;\">\n      <th></th>\n      <th>date</th>\n      <th>store</th>\n      <th>item</th>\n      <th>sales</th>\n    </tr>\n  </thead>\n  <tbody>\n    <tr>\n      <th>0</th>\n      <td>2013-01-01</td>\n      <td>1</td>\n      <td>1</td>\n      <td>13</td>\n    </tr>\n    <tr>\n      <th>1</th>\n      <td>2013-01-02</td>\n      <td>1</td>\n      <td>1</td>\n      <td>11</td>\n    </tr>\n    <tr>\n      <th>2</th>\n      <td>2013-01-03</td>\n      <td>1</td>\n      <td>1</td>\n      <td>14</td>\n    </tr>\n    <tr>\n      <th>3</th>\n      <td>2013-01-04</td>\n      <td>1</td>\n      <td>1</td>\n      <td>13</td>\n    </tr>\n    <tr>\n      <th>4</th>\n      <td>2013-01-05</td>\n      <td>1</td>\n      <td>1</td>\n      <td>10</td>\n    </tr>\n    <tr>\n      <th>...</th>\n      <td>...</td>\n      <td>...</td>\n      <td>...</td>\n      <td>...</td>\n    </tr>\n    <tr>\n      <th>912995</th>\n      <td>2017-12-27</td>\n      <td>10</td>\n      <td>50</td>\n      <td>63</td>\n    </tr>\n    <tr>\n      <th>912996</th>\n      <td>2017-12-28</td>\n      <td>10</td>\n      <td>50</td>\n      <td>59</td>\n    </tr>\n    <tr>\n      <th>912997</th>\n      <td>2017-12-29</td>\n      <td>10</td>\n      <td>50</td>\n      <td>74</td>\n    </tr>\n    <tr>\n      <th>912998</th>\n      <td>2017-12-30</td>\n      <td>10</td>\n      <td>50</td>\n      <td>62</td>\n    </tr>\n    <tr>\n      <th>912999</th>\n      <td>2017-12-31</td>\n      <td>10</td>\n      <td>50</td>\n      <td>82</td>\n    </tr>\n  </tbody>\n</table>\n<p>913000 rows × 4 columns</p>\n</div>"
     },
     "execution_count": 13,
     "metadata": {},
     "output_type": "execute_result"
    }
   ],
   "source": [
    "train = pd.read_csv(r\"data/demand-forecasting-kernels-only/train.csv\")\n",
    "train"
   ],
   "metadata": {
    "collapsed": false,
    "pycharm": {
     "name": "#%%\n"
    }
   }
  },
  {
   "cell_type": "code",
   "execution_count": 14,
   "outputs": [
    {
     "data": {
      "text/plain": "('2013-01-01', '2017-12-31')"
     },
     "execution_count": 14,
     "metadata": {},
     "output_type": "execute_result"
    }
   ],
   "source": [
    "train.date.min(),train.date.max()"
   ],
   "metadata": {
    "collapsed": false,
    "pycharm": {
     "name": "#%%\n"
    }
   }
  },
  {
   "cell_type": "code",
   "execution_count": 4,
   "outputs": [
    {
     "data": {
      "text/plain": "          id        date  store  item\n0          0  2018-01-01      1     1\n1          1  2018-01-02      1     1\n2          2  2018-01-03      1     1\n3          3  2018-01-04      1     1\n4          4  2018-01-05      1     1\n...      ...         ...    ...   ...\n44995  44995  2018-03-27     10    50\n44996  44996  2018-03-28     10    50\n44997  44997  2018-03-29     10    50\n44998  44998  2018-03-30     10    50\n44999  44999  2018-03-31     10    50\n\n[45000 rows x 4 columns]",
      "text/html": "<div>\n<style scoped>\n    .dataframe tbody tr th:only-of-type {\n        vertical-align: middle;\n    }\n\n    .dataframe tbody tr th {\n        vertical-align: top;\n    }\n\n    .dataframe thead th {\n        text-align: right;\n    }\n</style>\n<table border=\"1\" class=\"dataframe\">\n  <thead>\n    <tr style=\"text-align: right;\">\n      <th></th>\n      <th>id</th>\n      <th>date</th>\n      <th>store</th>\n      <th>item</th>\n    </tr>\n  </thead>\n  <tbody>\n    <tr>\n      <th>0</th>\n      <td>0</td>\n      <td>2018-01-01</td>\n      <td>1</td>\n      <td>1</td>\n    </tr>\n    <tr>\n      <th>1</th>\n      <td>1</td>\n      <td>2018-01-02</td>\n      <td>1</td>\n      <td>1</td>\n    </tr>\n    <tr>\n      <th>2</th>\n      <td>2</td>\n      <td>2018-01-03</td>\n      <td>1</td>\n      <td>1</td>\n    </tr>\n    <tr>\n      <th>3</th>\n      <td>3</td>\n      <td>2018-01-04</td>\n      <td>1</td>\n      <td>1</td>\n    </tr>\n    <tr>\n      <th>4</th>\n      <td>4</td>\n      <td>2018-01-05</td>\n      <td>1</td>\n      <td>1</td>\n    </tr>\n    <tr>\n      <th>...</th>\n      <td>...</td>\n      <td>...</td>\n      <td>...</td>\n      <td>...</td>\n    </tr>\n    <tr>\n      <th>44995</th>\n      <td>44995</td>\n      <td>2018-03-27</td>\n      <td>10</td>\n      <td>50</td>\n    </tr>\n    <tr>\n      <th>44996</th>\n      <td>44996</td>\n      <td>2018-03-28</td>\n      <td>10</td>\n      <td>50</td>\n    </tr>\n    <tr>\n      <th>44997</th>\n      <td>44997</td>\n      <td>2018-03-29</td>\n      <td>10</td>\n      <td>50</td>\n    </tr>\n    <tr>\n      <th>44998</th>\n      <td>44998</td>\n      <td>2018-03-30</td>\n      <td>10</td>\n      <td>50</td>\n    </tr>\n    <tr>\n      <th>44999</th>\n      <td>44999</td>\n      <td>2018-03-31</td>\n      <td>10</td>\n      <td>50</td>\n    </tr>\n  </tbody>\n</table>\n<p>45000 rows × 4 columns</p>\n</div>"
     },
     "execution_count": 4,
     "metadata": {},
     "output_type": "execute_result"
    }
   ],
   "source": [
    "test = pd.read_csv(r\"data/demand-forecasting-kernels-only/test.csv\")\n",
    "test"
   ],
   "metadata": {
    "collapsed": false,
    "pycharm": {
     "name": "#%%\n"
    }
   }
  },
  {
   "cell_type": "code",
   "execution_count": 12,
   "outputs": [
    {
     "data": {
      "text/plain": "('2018-01-01', '2018-03-31')"
     },
     "execution_count": 12,
     "metadata": {},
     "output_type": "execute_result"
    }
   ],
   "source": [
    "test_min_date, test_max_date = test.date.unique().min(),test.date.unique().max()\n",
    "test_min_date, test_max_date"
   ],
   "metadata": {
    "collapsed": false,
    "pycharm": {
     "name": "#%%\n"
    }
   }
  },
  {
   "cell_type": "code",
   "execution_count": 225,
   "outputs": [
    {
     "data": {
      "text/plain": "             date  store  item  sales       id\n0      2013-01-01      1     1   13.0      NaN\n1      2013-01-02      1     1   11.0      NaN\n2      2013-01-03      1     1   14.0      NaN\n3      2013-01-04      1     1   13.0      NaN\n4      2013-01-05      1     1   10.0      NaN\n...           ...    ...   ...    ...      ...\n44995  2018-03-27     10    50    NaN  44995.0\n44996  2018-03-28     10    50    NaN  44996.0\n44997  2018-03-29     10    50    NaN  44997.0\n44998  2018-03-30     10    50    NaN  44998.0\n44999  2018-03-31     10    50    NaN  44999.0\n\n[958000 rows x 5 columns]",
      "text/html": "<div>\n<style scoped>\n    .dataframe tbody tr th:only-of-type {\n        vertical-align: middle;\n    }\n\n    .dataframe tbody tr th {\n        vertical-align: top;\n    }\n\n    .dataframe thead th {\n        text-align: right;\n    }\n</style>\n<table border=\"1\" class=\"dataframe\">\n  <thead>\n    <tr style=\"text-align: right;\">\n      <th></th>\n      <th>date</th>\n      <th>store</th>\n      <th>item</th>\n      <th>sales</th>\n      <th>id</th>\n    </tr>\n  </thead>\n  <tbody>\n    <tr>\n      <th>0</th>\n      <td>2013-01-01</td>\n      <td>1</td>\n      <td>1</td>\n      <td>13.0</td>\n      <td>NaN</td>\n    </tr>\n    <tr>\n      <th>1</th>\n      <td>2013-01-02</td>\n      <td>1</td>\n      <td>1</td>\n      <td>11.0</td>\n      <td>NaN</td>\n    </tr>\n    <tr>\n      <th>2</th>\n      <td>2013-01-03</td>\n      <td>1</td>\n      <td>1</td>\n      <td>14.0</td>\n      <td>NaN</td>\n    </tr>\n    <tr>\n      <th>3</th>\n      <td>2013-01-04</td>\n      <td>1</td>\n      <td>1</td>\n      <td>13.0</td>\n      <td>NaN</td>\n    </tr>\n    <tr>\n      <th>4</th>\n      <td>2013-01-05</td>\n      <td>1</td>\n      <td>1</td>\n      <td>10.0</td>\n      <td>NaN</td>\n    </tr>\n    <tr>\n      <th>...</th>\n      <td>...</td>\n      <td>...</td>\n      <td>...</td>\n      <td>...</td>\n      <td>...</td>\n    </tr>\n    <tr>\n      <th>44995</th>\n      <td>2018-03-27</td>\n      <td>10</td>\n      <td>50</td>\n      <td>NaN</td>\n      <td>44995.0</td>\n    </tr>\n    <tr>\n      <th>44996</th>\n      <td>2018-03-28</td>\n      <td>10</td>\n      <td>50</td>\n      <td>NaN</td>\n      <td>44996.0</td>\n    </tr>\n    <tr>\n      <th>44997</th>\n      <td>2018-03-29</td>\n      <td>10</td>\n      <td>50</td>\n      <td>NaN</td>\n      <td>44997.0</td>\n    </tr>\n    <tr>\n      <th>44998</th>\n      <td>2018-03-30</td>\n      <td>10</td>\n      <td>50</td>\n      <td>NaN</td>\n      <td>44998.0</td>\n    </tr>\n    <tr>\n      <th>44999</th>\n      <td>2018-03-31</td>\n      <td>10</td>\n      <td>50</td>\n      <td>NaN</td>\n      <td>44999.0</td>\n    </tr>\n  </tbody>\n</table>\n<p>958000 rows × 5 columns</p>\n</div>"
     },
     "execution_count": 225,
     "metadata": {},
     "output_type": "execute_result"
    }
   ],
   "source": [
    "df = pd.concat([train, test], axis=0)\n",
    "df0 = df.copy(deep=True)\n",
    "df"
   ],
   "metadata": {
    "collapsed": false,
    "pycharm": {
     "name": "#%%\n"
    }
   }
  },
  {
   "cell_type": "markdown",
   "source": [
    "## User configured columns"
   ],
   "metadata": {
    "collapsed": false,
    "pycharm": {
     "name": "#%% md\n"
    }
   }
  },
  {
   "cell_type": "code",
   "execution_count": 255,
   "outputs": [],
   "source": [
    "time_col = 'date'\n",
    "index_cols = ['store','item']\n",
    "target = 'sales'\n",
    "target_fillna_value = 0"
   ],
   "metadata": {
    "collapsed": false,
    "pycharm": {
     "name": "#%%\n"
    }
   }
  },
  {
   "cell_type": "code",
   "execution_count": 48,
   "outputs": [],
   "source": [
    "df[1:]"
   ],
   "metadata": {
    "collapsed": false,
    "pycharm": {
     "name": "#%%\n"
    }
   }
  },
  {
   "cell_type": "code",
   "execution_count": 165,
   "outputs": [
    {
     "data": {
      "text/plain": "0       2013-01-01\n1       2013-01-02\n2       2013-01-03\n3       2013-01-04\n4       2013-01-05\n           ...    \n1911    2018-03-27\n1912    2018-03-28\n1913    2018-03-29\n1914    2018-03-30\n1915    2018-03-31\nName: date, Length: 1916, dtype: object"
     },
     "execution_count": 165,
     "metadata": {},
     "output_type": "execute_result"
    }
   ],
   "source": [
    "df[1:][time_col].drop_duplicates().sort_values().reset_index(drop=True)"
   ],
   "metadata": {
    "collapsed": false,
    "pycharm": {
     "name": "#%%\n"
    }
   }
  },
  {
   "cell_type": "code",
   "execution_count": 106,
   "outputs": [
    {
     "data": {
      "text/plain": "        store  item\n1           1     1\n1826        2     1\n3652        3     1\n5478        4     1\n7304        5     1\n...       ...   ...\n903870      6    50\n905696      7    50\n907522      8    50\n909348      9    50\n911174     10    50\n\n[500 rows x 2 columns]",
      "text/html": "<div>\n<style scoped>\n    .dataframe tbody tr th:only-of-type {\n        vertical-align: middle;\n    }\n\n    .dataframe tbody tr th {\n        vertical-align: top;\n    }\n\n    .dataframe thead th {\n        text-align: right;\n    }\n</style>\n<table border=\"1\" class=\"dataframe\">\n  <thead>\n    <tr style=\"text-align: right;\">\n      <th></th>\n      <th>store</th>\n      <th>item</th>\n    </tr>\n  </thead>\n  <tbody>\n    <tr>\n      <th>1</th>\n      <td>1</td>\n      <td>1</td>\n    </tr>\n    <tr>\n      <th>1826</th>\n      <td>2</td>\n      <td>1</td>\n    </tr>\n    <tr>\n      <th>3652</th>\n      <td>3</td>\n      <td>1</td>\n    </tr>\n    <tr>\n      <th>5478</th>\n      <td>4</td>\n      <td>1</td>\n    </tr>\n    <tr>\n      <th>7304</th>\n      <td>5</td>\n      <td>1</td>\n    </tr>\n    <tr>\n      <th>...</th>\n      <td>...</td>\n      <td>...</td>\n    </tr>\n    <tr>\n      <th>903870</th>\n      <td>6</td>\n      <td>50</td>\n    </tr>\n    <tr>\n      <th>905696</th>\n      <td>7</td>\n      <td>50</td>\n    </tr>\n    <tr>\n      <th>907522</th>\n      <td>8</td>\n      <td>50</td>\n    </tr>\n    <tr>\n      <th>909348</th>\n      <td>9</td>\n      <td>50</td>\n    </tr>\n    <tr>\n      <th>911174</th>\n      <td>10</td>\n      <td>50</td>\n    </tr>\n  </tbody>\n</table>\n<p>500 rows × 2 columns</p>\n</div>"
     },
     "execution_count": 106,
     "metadata": {},
     "output_type": "execute_result"
    }
   ],
   "source": [
    "df[1:][index_cols].drop_duplicates()"
   ],
   "metadata": {
    "collapsed": false,
    "pycharm": {
     "name": "#%%\n"
    }
   }
  },
  {
   "cell_type": "code",
   "execution_count": 110,
   "outputs": [
    {
     "data": {
      "text/plain": "'store_item'"
     },
     "execution_count": 110,
     "metadata": {},
     "output_type": "execute_result"
    }
   ],
   "source": [
    "index_col = \"_\".join(index_cols)"
   ],
   "metadata": {
    "collapsed": false,
    "pycharm": {
     "name": "#%%\n"
    }
   }
  },
  {
   "cell_type": "code",
   "execution_count": 284,
   "outputs": [
    {
     "data": {
      "text/plain": "              date  store  item  sales       id store_item\n0       2013-01-02    1.0   1.0   11.0      NaN        1_1\n1       2013-01-03    1.0   1.0   14.0      NaN        1_1\n2       2013-01-04    1.0   1.0   13.0      NaN        1_1\n3       2013-01-05    1.0   1.0   10.0      NaN        1_1\n4       2013-01-06    1.0   1.0   12.0      NaN        1_1\n...            ...    ...   ...    ...      ...        ...\n957995  2018-03-28   10.0  50.0    0.0  44996.0      10_50\n957996  2018-03-29   10.0  50.0    0.0  44997.0      10_50\n957997  2018-03-30   10.0  50.0    0.0  44998.0      10_50\n957998  2018-03-31   10.0  50.0    0.0  44999.0      10_50\n957999  2013-01-01    NaN   NaN    0.0      NaN        1_1\n\n[958000 rows x 6 columns]",
      "text/html": "<div>\n<style scoped>\n    .dataframe tbody tr th:only-of-type {\n        vertical-align: middle;\n    }\n\n    .dataframe tbody tr th {\n        vertical-align: top;\n    }\n\n    .dataframe thead th {\n        text-align: right;\n    }\n</style>\n<table border=\"1\" class=\"dataframe\">\n  <thead>\n    <tr style=\"text-align: right;\">\n      <th></th>\n      <th>date</th>\n      <th>store</th>\n      <th>item</th>\n      <th>sales</th>\n      <th>id</th>\n      <th>store_item</th>\n    </tr>\n  </thead>\n  <tbody>\n    <tr>\n      <th>0</th>\n      <td>2013-01-02</td>\n      <td>1.0</td>\n      <td>1.0</td>\n      <td>11.0</td>\n      <td>NaN</td>\n      <td>1_1</td>\n    </tr>\n    <tr>\n      <th>1</th>\n      <td>2013-01-03</td>\n      <td>1.0</td>\n      <td>1.0</td>\n      <td>14.0</td>\n      <td>NaN</td>\n      <td>1_1</td>\n    </tr>\n    <tr>\n      <th>2</th>\n      <td>2013-01-04</td>\n      <td>1.0</td>\n      <td>1.0</td>\n      <td>13.0</td>\n      <td>NaN</td>\n      <td>1_1</td>\n    </tr>\n    <tr>\n      <th>3</th>\n      <td>2013-01-05</td>\n      <td>1.0</td>\n      <td>1.0</td>\n      <td>10.0</td>\n      <td>NaN</td>\n      <td>1_1</td>\n    </tr>\n    <tr>\n      <th>4</th>\n      <td>2013-01-06</td>\n      <td>1.0</td>\n      <td>1.0</td>\n      <td>12.0</td>\n      <td>NaN</td>\n      <td>1_1</td>\n    </tr>\n    <tr>\n      <th>...</th>\n      <td>...</td>\n      <td>...</td>\n      <td>...</td>\n      <td>...</td>\n      <td>...</td>\n      <td>...</td>\n    </tr>\n    <tr>\n      <th>957995</th>\n      <td>2018-03-28</td>\n      <td>10.0</td>\n      <td>50.0</td>\n      <td>0.0</td>\n      <td>44996.0</td>\n      <td>10_50</td>\n    </tr>\n    <tr>\n      <th>957996</th>\n      <td>2018-03-29</td>\n      <td>10.0</td>\n      <td>50.0</td>\n      <td>0.0</td>\n      <td>44997.0</td>\n      <td>10_50</td>\n    </tr>\n    <tr>\n      <th>957997</th>\n      <td>2018-03-30</td>\n      <td>10.0</td>\n      <td>50.0</td>\n      <td>0.0</td>\n      <td>44998.0</td>\n      <td>10_50</td>\n    </tr>\n    <tr>\n      <th>957998</th>\n      <td>2018-03-31</td>\n      <td>10.0</td>\n      <td>50.0</td>\n      <td>0.0</td>\n      <td>44999.0</td>\n      <td>10_50</td>\n    </tr>\n    <tr>\n      <th>957999</th>\n      <td>2013-01-01</td>\n      <td>NaN</td>\n      <td>NaN</td>\n      <td>0.0</td>\n      <td>NaN</td>\n      <td>1_1</td>\n    </tr>\n  </tbody>\n</table>\n<p>958000 rows × 6 columns</p>\n</div>"
     },
     "execution_count": 284,
     "metadata": {},
     "output_type": "execute_result"
    }
   ],
   "source": [
    "from itertools import product\n",
    "from functools import reduce # Valid in Python 2.6+, required in Python 3\n",
    "import operator\n",
    "\n",
    "def move_cols_to_first(the_df, first_cols: list):\n",
    "    latter_cols = the_df.columns[~the_df.columns.isin(first_cols)]\n",
    "    the_df = pd.concat([the_df[first_cols], the_df[latter_cols]],axis=1)\n",
    "    return the_df\n",
    "\n",
    "def add_concat_index_cols(the_df):\n",
    "    indexes_col = \"_\".join(index_cols)\n",
    "    the_df[indexes_col] = the_df[index_cols[0]].astype(str)\n",
    "    if len(indexes_col)>1:\n",
    "        for col in index_cols[1:]:\n",
    "            the_df[indexes_col] = the_df[indexes_col] + \"_\" + the_df[col].astype(str)\n",
    "    the_df = move_cols_to_first(the_df, [time_col,indexes_col]+index_cols)\n",
    "    return the_df, indexes_col\n",
    "\n",
    "def is_full_time_df(the_df):\n",
    "    is_full_time = len(the_df) == reduce(operator.mul, the_df[index_cols+[time_col]].nunique())\n",
    "    return is_full_time\n",
    "\n",
    "def fillna_target(the_df):\n",
    "    assert target in the_df\n",
    "    the_df = the_df.fillna({target:target_fillna_value})\n",
    "    assert the_df[target].isna().sum() == 0\n",
    "    return the_df\n",
    "\n",
    "def add_missing_dates_fill_target_zero(the_df):\n",
    "    if is_full_time_df(the_df):\n",
    "        return the_df\n",
    "    # Make sure there's one index col\n",
    "    the_indexes_col = \"_\".join(index_cols)\n",
    "    if not the_indexes_col in the_df:\n",
    "        the_df, the_indexes_col = add_concat_index_cols(the_df)\n",
    "    # The logic\n",
    "    the_df_full_date_indexes = pd.DataFrame(product(the_df[time_col].drop_duplicates(), the_df[the_indexes_col].drop_duplicates()), columns=[time_col, the_indexes_col]).dropna()\n",
    "    the_df = the_df.merge(the_df_full_date_indexes, how='right')\n",
    "    the_df = fillna_target(the_df)\n",
    "    assert is_full_time_df(the_df)\n",
    "    return the_df\n",
    "\n",
    "add_missing_dates_fill_target_zero(df0[1:])"
   ],
   "metadata": {
    "collapsed": false,
    "pycharm": {
     "name": "#%%\n"
    }
   }
  },
  {
   "cell_type": "markdown",
   "source": [
    "# TODO\n",
    "## create a unified time col from multiple time cols"
   ],
   "metadata": {
    "collapsed": false,
    "pycharm": {
     "name": "#%% md\n"
    }
   }
  },
  {
   "cell_type": "code",
   "execution_count": null,
   "outputs": [],
   "source": [],
   "metadata": {
    "collapsed": false,
    "pycharm": {
     "name": "#%%\n"
    }
   }
  }
 ],
 "metadata": {
  "kernelspec": {
   "display_name": "Python 3",
   "language": "python",
   "name": "python3"
  },
  "language_info": {
   "codemirror_mode": {
    "name": "ipython",
    "version": 2
   },
   "file_extension": ".py",
   "mimetype": "text/x-python",
   "name": "python",
   "nbconvert_exporter": "python",
   "pygments_lexer": "ipython2",
   "version": "2.7.6"
  }
 },
 "nbformat": 4,
 "nbformat_minor": 0
}